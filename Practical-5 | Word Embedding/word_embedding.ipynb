{
 "cells": [
  {
   "cell_type": "markdown",
   "id": "fc885251",
   "metadata": {},
   "source": [
    "## Implementation of Word-Embedding using Word2Vec "
   ]
  },
  {
   "cell_type": "code",
   "execution_count": 1,
   "id": "539259da",
   "metadata": {},
   "outputs": [],
   "source": [
    "from gensim.test.utils import common_texts, get_tmpfile\n",
    "from gensim.models import Word2Vec"
   ]
  },
  {
   "cell_type": "code",
   "execution_count": 3,
   "id": "2984039a",
   "metadata": {},
   "outputs": [
    {
     "name": "stdout",
     "output_type": "stream",
     "text": [
      "[['human', 'interface', 'computer'], ['survey', 'user', 'computer', 'system', 'response', 'time'], ['eps', 'user', 'interface', 'system'], ['system', 'human', 'system', 'eps'], ['user', 'response', 'time'], ['trees'], ['graph', 'trees'], ['graph', 'minors', 'trees'], ['graph', 'minors', 'survey']]\n"
     ]
    }
   ],
   "source": [
    "# Printing Document Data from Gensim Library\n",
    "print(common_texts)"
   ]
  },
  {
   "cell_type": "code",
   "execution_count": 7,
   "id": "4477ae43",
   "metadata": {
    "scrolled": true
   },
   "outputs": [
    {
     "data": {
      "text/plain": [
       "array([ 7.0871473e-03, -1.5683782e-03,  7.9461364e-03, -9.4874427e-03,\n",
       "       -8.0296379e-03, -6.6422895e-03, -4.0041069e-03,  4.9910326e-03,\n",
       "       -3.8136279e-03, -8.3215833e-03,  8.4132208e-03, -3.7471871e-03,\n",
       "        8.6089820e-03, -4.8962692e-03,  3.9189272e-03,  4.9236091e-03,\n",
       "        2.3943025e-03, -2.8213640e-03,  2.8496354e-03, -8.2571078e-03,\n",
       "       -2.7652937e-03, -2.5905678e-03,  7.2491039e-03, -3.4629786e-03,\n",
       "       -6.5992209e-03,  4.3399399e-03, -4.7540484e-04, -3.5954388e-03,\n",
       "        6.8824128e-03,  3.8715161e-03, -3.8985382e-03,  7.7237905e-04,\n",
       "        9.1438834e-03,  7.7564754e-03,  6.3607404e-03,  4.6693156e-03,\n",
       "        2.3858545e-03, -1.8414279e-03, -6.3720327e-03, -2.9998334e-04,\n",
       "       -1.5642069e-03, -5.7058921e-04, -6.2630447e-03,  7.4330512e-03,\n",
       "       -6.5910248e-03, -7.2386782e-03, -2.7575779e-03, -1.5144736e-03,\n",
       "       -7.6353899e-03,  6.9955905e-04, -5.3253169e-03, -1.2739648e-03,\n",
       "       -7.3665036e-03,  1.9612678e-03,  3.2734126e-03, -2.4741203e-05,\n",
       "       -5.4490739e-03, -1.7256952e-03,  7.0866016e-03,  3.7357579e-03,\n",
       "       -8.8817989e-03, -3.4116022e-03,  2.3567537e-03,  2.1376403e-03,\n",
       "       -9.4648376e-03,  4.5697815e-03, -8.6582452e-03, -7.3883547e-03,\n",
       "        3.4832379e-03, -3.4728234e-03,  3.5656209e-03,  8.8950340e-03,\n",
       "       -3.5753339e-03,  9.3197320e-03,  1.7111641e-03,  9.8462272e-03,\n",
       "        5.7051540e-03, -9.1497740e-03, -3.3269732e-03,  6.5306681e-03,\n",
       "        5.6031067e-03,  8.7057864e-03,  6.9263605e-03,  8.0408510e-03,\n",
       "       -9.8231193e-03,  4.2975070e-03, -5.0308690e-03,  3.5132242e-03,\n",
       "        6.0578999e-03,  4.3924102e-03,  7.5100451e-03,  1.4993446e-03,\n",
       "       -1.2642510e-03,  5.7697659e-03, -5.6368350e-03,  3.7106704e-05,\n",
       "        9.4556073e-03, -5.4809595e-03,  3.8159816e-03, -8.1130704e-03],\n",
       "      dtype=float32)"
      ]
     },
     "execution_count": 7,
     "metadata": {},
     "output_type": "execute_result"
    }
   ],
   "source": [
    "# Word2Vec modeling. \n",
    "model = Word2Vec(common_texts, window=5, min_count=1, workers=4)\n",
    "\n",
    "model.wv[\"interface\"]"
   ]
  },
  {
   "cell_type": "code",
   "execution_count": 8,
   "id": "a21c1778",
   "metadata": {},
   "outputs": [
    {
     "data": {
      "text/plain": [
       "[('human', 0.10940767824649811),\n",
       " ('response', 0.10894867032766342),\n",
       " ('system', 0.06288163363933563),\n",
       " ('time', 0.05048634856939316),\n",
       " ('survey', 0.026822835206985474),\n",
       " ('eps', 0.019992787390947342),\n",
       " ('computer', 0.015203368850052357),\n",
       " ('user', 0.013158983550965786),\n",
       " ('trees', -0.10199148952960968),\n",
       " ('graph', -0.13431084156036377)]"
      ]
     },
     "execution_count": 8,
     "metadata": {},
     "output_type": "execute_result"
    }
   ],
   "source": [
    "# Let's get similar words to 'Interface'\n",
    "model.wv.most_similar(\"interface\")"
   ]
  }
 ],
 "metadata": {
  "kernelspec": {
   "display_name": "Python 3",
   "language": "python",
   "name": "python3"
  },
  "language_info": {
   "codemirror_mode": {
    "name": "ipython",
    "version": 3
   },
   "file_extension": ".py",
   "mimetype": "text/x-python",
   "name": "python",
   "nbconvert_exporter": "python",
   "pygments_lexer": "ipython3",
   "version": "3.8.8"
  }
 },
 "nbformat": 4,
 "nbformat_minor": 5
}
