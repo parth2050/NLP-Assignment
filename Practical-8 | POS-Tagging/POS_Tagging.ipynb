{
 "cells": [
  {
   "cell_type": "code",
   "execution_count": 1,
   "id": "bc72072f",
   "metadata": {},
   "outputs": [],
   "source": [
    "import nltk\n",
    "from nltk.corpus import stopwords\n",
    "from nltk.tokenize import word_tokenize, sent_tokenize\n",
    "stop_words = set(stopwords.words('english'))"
   ]
  },
  {
   "cell_type": "code",
   "execution_count": 3,
   "id": "d501f65b",
   "metadata": {},
   "outputs": [],
   "source": [
    "documents = \"NLP is researching field\"\\\n",
    "             \" NLP and ML changed the technological aspect drastically \"\\\n",
    "             \" NLP stands for Natural Language Processing\"\\\n",
    "             \" NLP oncerned with giving computers the ability to understand text and spoken words in much the same way human beings can.\"\\\n",
    "             \" NLP helps computers communicate with humans in their own language and scales other language-related tasks. \"\\\n",
    "             \" NLP and ML are both based on statistical learning\"\\\n",
    "             \" Knowledge of Math is fundamental in these type of fields\"\\\n",
    "\n",
    "tokenized = sent_tokenize(documents)"
   ]
  },
  {
   "cell_type": "code",
   "execution_count": 6,
   "id": "8b5bab41",
   "metadata": {},
   "outputs": [
    {
     "name": "stdout",
     "output_type": "stream",
     "text": [
      "\n",
      "[('NLP', 'NNP'), ('researching', 'VBG'), ('field', 'NN'), ('NLP', 'NNP'), ('ML', 'NNP'), ('changed', 'VBD'), ('technological', 'JJ'), ('aspect', 'NN'), ('drastically', 'RB'), ('NLP', 'NNP'), ('stands', 'VBZ'), ('Natural', 'JJ'), ('Language', 'NNP'), ('Processing', 'NNP'), ('NLP', 'NNP'), ('oncerned', 'VBD'), ('giving', 'VBG'), ('computers', 'NNS'), ('ability', 'NN'), ('understand', 'VBP'), ('text', 'NN'), ('spoken', 'NN'), ('words', 'NNS'), ('much', 'JJ'), ('way', 'NN'), ('human', 'JJ'), ('beings', 'NNS'), ('.', '.')]\n",
      "\n",
      "[('NLP', 'NNP'), ('helps', 'VBZ'), ('computers', 'NNS'), ('communicate', 'VBP'), ('humans', 'NNS'), ('language', 'NN'), ('scales', 'VBZ'), ('language-related', 'JJ'), ('tasks', 'NNS'), ('.', '.')]\n",
      "\n",
      "[('NLP', 'NNP'), ('ML', 'NNP'), ('based', 'VBN'), ('statistical', 'JJ'), ('learning', 'VBG'), ('Knowledge', 'NNP'), ('Math', 'NNP'), ('fundamental', 'JJ'), ('type', 'NN'), ('fields', 'NNS')]\n"
     ]
    }
   ],
   "source": [
    "for i in tokenized:\n",
    "    \n",
    "    words_list = nltk.word_tokenize(i)\n",
    "    words_list = [i for i in words_list if not i in stop_words]\n",
    "\n",
    "    tagged = nltk.pos_tag(words_list)\n",
    "\n",
    "    print(f\"\\n{tagged}\")"
   ]
  }
 ],
 "metadata": {
  "kernelspec": {
   "display_name": "Python 3",
   "language": "python",
   "name": "python3"
  },
  "language_info": {
   "codemirror_mode": {
    "name": "ipython",
    "version": 3
   },
   "file_extension": ".py",
   "mimetype": "text/x-python",
   "name": "python",
   "nbconvert_exporter": "python",
   "pygments_lexer": "ipython3",
   "version": "3.8.8"
  }
 },
 "nbformat": 4,
 "nbformat_minor": 5
}
