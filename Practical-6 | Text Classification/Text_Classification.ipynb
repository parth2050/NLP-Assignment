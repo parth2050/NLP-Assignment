{
 "cells": [
  {
   "cell_type": "code",
   "execution_count": 1,
   "id": "a8a57ca1",
   "metadata": {},
   "outputs": [],
   "source": [
    "from sklearn.svm import LinearSVC\n",
    "from sklearn.pipeline import Pipeline\n",
    "from sklearn import metrics\n",
    "from sklearn.feature_extraction.text import CountVectorizer\n",
    "from sklearn.feature_extraction.text import TfidfTransformer\n",
    "from sklearn.datasets import fetch_20newsgroups\n",
    "from sklearn.pipeline import make_pipeline\n",
    "from sklearn.feature_extraction.text import TfidfVectorizer\n",
    "from sklearn.naive_bayes import MultinomialNB\n",
    "import numpy as np, pandas as pd\n",
    "import seaborn as sns\n",
    "import matplotlib.pyplot as plt\n",
    "from sklearn.metrics import confusion_matrix, accuracy_score"
   ]
  },
  {
   "cell_type": "code",
   "execution_count": 2,
   "id": "e8b6e6c7",
   "metadata": {},
   "outputs": [],
   "source": [
    "newsgroups_train = fetch_20newsgroups(subset='train')\n",
    "newsgroups_test = fetch_20newsgroups(subset='test')\n",
    "X_train = newsgroups_train.data\n",
    "X_test = newsgroups_test.data\n",
    "y_train = newsgroups_train.target\n",
    "y_test = newsgroups_test.target"
   ]
  },
  {
   "cell_type": "code",
   "execution_count": 3,
   "id": "fbdbcf37",
   "metadata": {},
   "outputs": [],
   "source": [
    "text_clf = Pipeline([('vect', CountVectorizer()),\n",
    "                     ('tfidf', TfidfTransformer()),\n",
    "                     ('clf', LinearSVC()),\n",
    "                     ])"
   ]
  },
  {
   "cell_type": "code",
   "execution_count": 4,
   "id": "5374e530",
   "metadata": {},
   "outputs": [
    {
     "data": {
      "text/plain": [
       "Pipeline(steps=[('vect', CountVectorizer()), ('tfidf', TfidfTransformer()),\n",
       "                ('clf', LinearSVC())])"
      ]
     },
     "execution_count": 4,
     "metadata": {},
     "output_type": "execute_result"
    }
   ],
   "source": [
    "text_clf.fit(X_train, y_train)"
   ]
  },
  {
   "cell_type": "code",
   "execution_count": 6,
   "id": "3aacd7a0",
   "metadata": {},
   "outputs": [],
   "source": [
    "predicted = text_clf.predict(X_test)"
   ]
  },
  {
   "cell_type": "code",
   "execution_count": 7,
   "id": "dbc247ab",
   "metadata": {
    "scrolled": true
   },
   "outputs": [
    {
     "name": "stdout",
     "output_type": "stream",
     "text": [
      "              precision    recall  f1-score   support\n",
      "\n",
      "           0       0.82      0.80      0.81       319\n",
      "           1       0.76      0.80      0.78       389\n",
      "           2       0.77      0.73      0.75       394\n",
      "           3       0.71      0.76      0.74       392\n",
      "           4       0.84      0.86      0.85       385\n",
      "           5       0.87      0.76      0.81       395\n",
      "           6       0.83      0.91      0.87       390\n",
      "           7       0.92      0.91      0.91       396\n",
      "           8       0.95      0.95      0.95       398\n",
      "           9       0.92      0.95      0.93       397\n",
      "          10       0.96      0.98      0.97       399\n",
      "          11       0.93      0.94      0.93       396\n",
      "          12       0.81      0.79      0.80       393\n",
      "          13       0.90      0.87      0.88       396\n",
      "          14       0.90      0.93      0.92       394\n",
      "          15       0.84      0.93      0.88       398\n",
      "          16       0.75      0.92      0.82       364\n",
      "          17       0.97      0.89      0.93       376\n",
      "          18       0.82      0.62      0.71       310\n",
      "          19       0.75      0.61      0.68       251\n",
      "\n",
      "    accuracy                           0.85      7532\n",
      "   macro avg       0.85      0.85      0.85      7532\n",
      "weighted avg       0.85      0.85      0.85      7532\n",
      "\n"
     ]
    }
   ],
   "source": [
    "print(metrics.classification_report(y_test, predicted))"
   ]
  },
  {
   "cell_type": "markdown",
   "id": "919f1c59",
   "metadata": {},
   "source": [
    "## Naive Bayes Approach"
   ]
  },
  {
   "cell_type": "code",
   "execution_count": 8,
   "id": "e5c46410",
   "metadata": {},
   "outputs": [],
   "source": [
    "data = fetch_20newsgroups()\n",
    "text_categories = data.target_names\n",
    "train_data = fetch_20newsgroups(subset=\"train\", categories=text_categories)\n",
    "test_data = fetch_20newsgroups(subset=\"test\", categories=text_categories)"
   ]
  },
  {
   "cell_type": "code",
   "execution_count": 9,
   "id": "286ce49c",
   "metadata": {},
   "outputs": [],
   "source": [
    "model = make_pipeline(TfidfVectorizer(), MultinomialNB())\n",
    "model.fit(train_data.data, train_data.target)\n",
    "predicted_categories = model.predict(test_data.data)"
   ]
  },
  {
   "cell_type": "code",
   "execution_count": 10,
   "id": "0b9ac28a",
   "metadata": {},
   "outputs": [
    {
     "name": "stdout",
     "output_type": "stream",
     "text": [
      "['rec.autos' 'sci.crypt' 'alt.atheism' ... 'rec.sport.baseball'\n",
      " 'comp.sys.ibm.pc.hardware' 'soc.religion.christian']\n"
     ]
    },
    {
     "data": {
      "text/plain": [
       "array(['rec.autos', 'sci.crypt', 'alt.atheism', 'Ellipsis',\n",
       "       'rec.sport.baseball', 'comp.sys.ibm.pc.hardware',\n",
       "       'soc.religion.christian'], dtype='<U24')"
      ]
     },
     "execution_count": 10,
     "metadata": {},
     "output_type": "execute_result"
    }
   ],
   "source": [
    "print(np.array(test_data.target_names)[predicted_categories])\n",
    "np.array(['rec.autos', 'sci.crypt', 'alt.atheism', ..., 'rec.sport.baseball', 'comp.sys.ibm.pc.hardware', 'soc.religion.christian'], dtype='<U24')"
   ]
  },
  {
   "cell_type": "code",
   "execution_count": 12,
   "id": "8bdb28fc",
   "metadata": {},
   "outputs": [
    {
     "name": "stdout",
     "output_type": "stream",
     "text": [
      "Accuracy: 0.7738980350504514\n"
     ]
    }
   ],
   "source": [
    "print(\"Accuracy: {}\".format(accuracy_score(test_data.target, predicted_categories)))"
   ]
  }
 ],
 "metadata": {
  "kernelspec": {
   "display_name": "Python 3",
   "language": "python",
   "name": "python3"
  },
  "language_info": {
   "codemirror_mode": {
    "name": "ipython",
    "version": 3
   },
   "file_extension": ".py",
   "mimetype": "text/x-python",
   "name": "python",
   "nbconvert_exporter": "python",
   "pygments_lexer": "ipython3",
   "version": "3.8.8"
  }
 },
 "nbformat": 4,
 "nbformat_minor": 5
}
