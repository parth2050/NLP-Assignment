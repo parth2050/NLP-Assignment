{
 "cells": [
  {
   "cell_type": "code",
   "execution_count": 1,
   "id": "0a28f0f0",
   "metadata": {},
   "outputs": [],
   "source": [
    "import re"
   ]
  },
  {
   "cell_type": "code",
   "execution_count": 5,
   "id": "63c24a53",
   "metadata": {},
   "outputs": [],
   "source": [
    "def n_gram(num,text):\n",
    "  tokens, num_grams = re.split(\"\\\\s+\",text), []\n",
    "  for i in range(len(tokens) - num + 1):\n",
    "    sentences = [tokens[j] for j in range (i, i+num)]\n",
    "    num_grams.append(\" \".join(sentences))\n",
    "  return num_grams"
   ]
  },
  {
   "cell_type": "code",
   "execution_count": 6,
   "id": "c6ccc5aa",
   "metadata": {},
   "outputs": [],
   "source": [
    "# Define Text Manually\n",
    "\n",
    "Text = \"The philosophy of education examines the goals, forms, methods, and meaning of education. The term is used to describe both fundamental philosophical analysis of these themes and the description or analysis of particular pedagogical approaches.\""
   ]
  },
  {
   "cell_type": "code",
   "execution_count": 8,
   "id": "145cd672",
   "metadata": {
    "scrolled": true
   },
   "outputs": [
    {
     "data": {
      "text/plain": [
       "['The philosophy',\n",
       " 'philosophy of',\n",
       " 'of education',\n",
       " 'education examines',\n",
       " 'examines the',\n",
       " 'the goals,',\n",
       " 'goals, forms,',\n",
       " 'forms, methods,',\n",
       " 'methods, and',\n",
       " 'and meaning',\n",
       " 'meaning of',\n",
       " 'of education.',\n",
       " 'education. The',\n",
       " 'The term',\n",
       " 'term is',\n",
       " 'is used',\n",
       " 'used to',\n",
       " 'to describe',\n",
       " 'describe both',\n",
       " 'both fundamental',\n",
       " 'fundamental philosophical',\n",
       " 'philosophical analysis',\n",
       " 'analysis of',\n",
       " 'of these',\n",
       " 'these themes',\n",
       " 'themes and',\n",
       " 'and the',\n",
       " 'the description',\n",
       " 'description or',\n",
       " 'or analysis',\n",
       " 'analysis of',\n",
       " 'of particular',\n",
       " 'particular pedagogical',\n",
       " 'pedagogical approaches.']"
      ]
     },
     "execution_count": 8,
     "metadata": {},
     "output_type": "execute_result"
    }
   ],
   "source": [
    "# Let's try Bi-Gram, Tri-Gram\n",
    "\n",
    "bi_gram = n_gram(2, Text)\n",
    "bi_gram"
   ]
  },
  {
   "cell_type": "code",
   "execution_count": 10,
   "id": "101fa660",
   "metadata": {
    "scrolled": true
   },
   "outputs": [
    {
     "data": {
      "text/plain": [
       "['The philosophy of',\n",
       " 'philosophy of education',\n",
       " 'of education examines',\n",
       " 'education examines the',\n",
       " 'examines the goals,',\n",
       " 'the goals, forms,',\n",
       " 'goals, forms, methods,',\n",
       " 'forms, methods, and',\n",
       " 'methods, and meaning',\n",
       " 'and meaning of',\n",
       " 'meaning of education.',\n",
       " 'of education. The',\n",
       " 'education. The term',\n",
       " 'The term is',\n",
       " 'term is used',\n",
       " 'is used to',\n",
       " 'used to describe',\n",
       " 'to describe both',\n",
       " 'describe both fundamental',\n",
       " 'both fundamental philosophical',\n",
       " 'fundamental philosophical analysis',\n",
       " 'philosophical analysis of',\n",
       " 'analysis of these',\n",
       " 'of these themes',\n",
       " 'these themes and',\n",
       " 'themes and the',\n",
       " 'and the description',\n",
       " 'the description or',\n",
       " 'description or analysis',\n",
       " 'or analysis of',\n",
       " 'analysis of particular',\n",
       " 'of particular pedagogical',\n",
       " 'particular pedagogical approaches.']"
      ]
     },
     "execution_count": 10,
     "metadata": {},
     "output_type": "execute_result"
    }
   ],
   "source": [
    "tri_gram = n_gram(3, Text)\n",
    "tri_gram"
   ]
  },
  {
   "cell_type": "code",
   "execution_count": 12,
   "id": "85ae7ddf",
   "metadata": {
    "scrolled": true
   },
   "outputs": [
    {
     "data": {
      "text/plain": [
       "['The philosophy of education examines',\n",
       " 'philosophy of education examines the',\n",
       " 'of education examines the goals,',\n",
       " 'education examines the goals, forms,',\n",
       " 'examines the goals, forms, methods,',\n",
       " 'the goals, forms, methods, and',\n",
       " 'goals, forms, methods, and meaning',\n",
       " 'forms, methods, and meaning of',\n",
       " 'methods, and meaning of education.',\n",
       " 'and meaning of education. The',\n",
       " 'meaning of education. The term',\n",
       " 'of education. The term is',\n",
       " 'education. The term is used',\n",
       " 'The term is used to',\n",
       " 'term is used to describe',\n",
       " 'is used to describe both',\n",
       " 'used to describe both fundamental',\n",
       " 'to describe both fundamental philosophical',\n",
       " 'describe both fundamental philosophical analysis',\n",
       " 'both fundamental philosophical analysis of',\n",
       " 'fundamental philosophical analysis of these',\n",
       " 'philosophical analysis of these themes',\n",
       " 'analysis of these themes and',\n",
       " 'of these themes and the',\n",
       " 'these themes and the description',\n",
       " 'themes and the description or',\n",
       " 'and the description or analysis',\n",
       " 'the description or analysis of',\n",
       " 'description or analysis of particular',\n",
       " 'or analysis of particular pedagogical',\n",
       " 'analysis of particular pedagogical approaches.']"
      ]
     },
     "execution_count": 12,
     "metadata": {},
     "output_type": "execute_result"
    }
   ],
   "source": [
    "five_gram = n_gram(5, Text)\n",
    "five_gram"
   ]
  }
 ],
 "metadata": {
  "kernelspec": {
   "display_name": "Python 3",
   "language": "python",
   "name": "python3"
  },
  "language_info": {
   "codemirror_mode": {
    "name": "ipython",
    "version": 3
   },
   "file_extension": ".py",
   "mimetype": "text/x-python",
   "name": "python",
   "nbconvert_exporter": "python",
   "pygments_lexer": "ipython3",
   "version": "3.8.8"
  }
 },
 "nbformat": 4,
 "nbformat_minor": 5
}
