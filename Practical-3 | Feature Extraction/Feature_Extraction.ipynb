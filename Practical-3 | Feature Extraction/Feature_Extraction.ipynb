{
 "cells": [
  {
   "cell_type": "code",
   "execution_count": 1,
   "id": "5ecd9bc5",
   "metadata": {},
   "outputs": [
    {
     "data": {
      "text/plain": [
       "['engineer',\n",
       " 'good',\n",
       " 'interested',\n",
       " 'politics',\n",
       " 'sample',\n",
       " 'sentence',\n",
       " 'software']"
      ]
     },
     "execution_count": 1,
     "metadata": {},
     "output_type": "execute_result"
    }
   ],
   "source": [
    "from sklearn.feature_extraction.text import CountVectorizer\n",
    "\n",
    "sentences = [\n",
    "    \"This is a sample sentence\",\n",
    "    \"I am interested in Politics\",\n",
    "    \"You are a very good software engineer, engineer.\",\n",
    "]\n",
    "\n",
    "vectorizer = CountVectorizer(stop_words='english')\n",
    " \n",
    "vectorizer.fit(sentences)\n",
    " \n",
    "vectorizer.get_feature_names()"
   ]
  },
  {
   "cell_type": "code",
   "execution_count": 2,
   "id": "cf22f93d",
   "metadata": {},
   "outputs": [
    {
     "data": {
      "text/plain": [
       "array([[0, 0, 0, 0, 1, 1, 0],\n",
       "       [0, 0, 1, 1, 0, 0, 0],\n",
       "       [2, 1, 0, 0, 0, 0, 1]], dtype=int64)"
      ]
     },
     "execution_count": 2,
     "metadata": {},
     "output_type": "execute_result"
    }
   ],
   "source": [
    "# Transform each sentences in vector space.\n",
    "vector = vectorizer.transform(sentences)\n",
    "vector_spaces = vector.toarray()\n",
    "\n",
    "vector_spaces"
   ]
  },
  {
   "cell_type": "code",
   "execution_count": 3,
   "id": "a957e6ab",
   "metadata": {},
   "outputs": [
    {
     "name": "stdout",
     "output_type": "stream",
     "text": [
      "This is a sample sentence\n",
      "[0 0 0 0 1 1 0]\n",
      "I am interested in Politics\n",
      "[0 0 1 1 0 0 0]\n",
      "You are a very good software engineer, engineer.\n",
      "[2 1 0 0 0 0 1]\n"
     ]
    }
   ],
   "source": [
    "# Show sentences and vector space representation.\n",
    "for i, v in zip(sentences, vector_spaces):\n",
    "    print(i)\n",
    "    print(v)"
   ]
  }
 ],
 "metadata": {
  "kernelspec": {
   "display_name": "Python 3",
   "language": "python",
   "name": "python3"
  },
  "language_info": {
   "codemirror_mode": {
    "name": "ipython",
    "version": 3
   },
   "file_extension": ".py",
   "mimetype": "text/x-python",
   "name": "python",
   "nbconvert_exporter": "python",
   "pygments_lexer": "ipython3",
   "version": "3.8.8"
  }
 },
 "nbformat": 4,
 "nbformat_minor": 5
}
