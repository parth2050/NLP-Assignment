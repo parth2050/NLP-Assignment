{
 "cells": [
  {
   "cell_type": "markdown",
   "id": "ed24a91e",
   "metadata": {},
   "source": [
    "## Implementation of Text Pre-processing using Neural Networks"
   ]
  },
  {
   "cell_type": "code",
   "execution_count": 1,
   "id": "ce44c13d",
   "metadata": {},
   "outputs": [],
   "source": [
    "import numpy as np \n",
    "import pandas as pd \n",
    "import matplotlib.pyplot as plt\n",
    "\n",
    "from sklearn.feature_extraction.text import CountVectorizer\n",
    "from sklearn.model_selection import train_test_split\n",
    "from sklearn.linear_model import LogisticRegression\n",
    "from sklearn.preprocessing import LabelEncoder\n",
    "from sklearn.preprocessing import OneHotEncoder\n",
    "from sklearn.model_selection import RandomizedSearchCV\n",
    "\n",
    "import tensorflow as tf\n",
    "from tensorflow.keras.models import Sequential\n",
    "from tensorflow.keras import layers\n",
    "from tensorflow.keras.preprocessing.text import Tokenizer\n",
    "from tensorflow.keras.preprocessing.sequence import pad_sequences\n",
    "from tensorflow.keras.wrappers.scikit_learn import KerasClassifier\n",
    "\n",
    "plt.style.use('ggplot')"
   ]
  },
  {
   "cell_type": "code",
   "execution_count": 3,
   "id": "40d159ec",
   "metadata": {},
   "outputs": [
    {
     "data": {
      "text/html": [
       "<div>\n",
       "<style scoped>\n",
       "    .dataframe tbody tr th:only-of-type {\n",
       "        vertical-align: middle;\n",
       "    }\n",
       "\n",
       "    .dataframe tbody tr th {\n",
       "        vertical-align: top;\n",
       "    }\n",
       "\n",
       "    .dataframe thead th {\n",
       "        text-align: right;\n",
       "    }\n",
       "</style>\n",
       "<table border=\"1\" class=\"dataframe\">\n",
       "  <thead>\n",
       "    <tr style=\"text-align: right;\">\n",
       "      <th></th>\n",
       "      <th>sentence</th>\n",
       "      <th>label</th>\n",
       "    </tr>\n",
       "  </thead>\n",
       "  <tbody>\n",
       "    <tr>\n",
       "      <th>0</th>\n",
       "      <td>So there is no way for me to plug it in here i...</td>\n",
       "      <td>0</td>\n",
       "    </tr>\n",
       "    <tr>\n",
       "      <th>1</th>\n",
       "      <td>Good case, Excellent value.</td>\n",
       "      <td>1</td>\n",
       "    </tr>\n",
       "    <tr>\n",
       "      <th>2</th>\n",
       "      <td>Great for the jawbone.</td>\n",
       "      <td>1</td>\n",
       "    </tr>\n",
       "    <tr>\n",
       "      <th>3</th>\n",
       "      <td>Tied to charger for conversations lasting more...</td>\n",
       "      <td>0</td>\n",
       "    </tr>\n",
       "    <tr>\n",
       "      <th>4</th>\n",
       "      <td>The mic is great.</td>\n",
       "      <td>1</td>\n",
       "    </tr>\n",
       "  </tbody>\n",
       "</table>\n",
       "</div>"
      ],
      "text/plain": [
       "                                            sentence  label\n",
       "0  So there is no way for me to plug it in here i...      0\n",
       "1                        Good case, Excellent value.      1\n",
       "2                             Great for the jawbone.      1\n",
       "3  Tied to charger for conversations lasting more...      0\n",
       "4                                  The mic is great.      1"
      ]
     },
     "execution_count": 3,
     "metadata": {},
     "output_type": "execute_result"
    }
   ],
   "source": [
    "df = pd.read_csv('amazon.txt', names=['sentence', 'label'], sep='\\t')\n",
    "df.head()"
   ]
  },
  {
   "cell_type": "code",
   "execution_count": 4,
   "id": "7a5ef46b",
   "metadata": {},
   "outputs": [
    {
     "data": {
      "text/html": [
       "<div>\n",
       "<style scoped>\n",
       "    .dataframe tbody tr th:only-of-type {\n",
       "        vertical-align: middle;\n",
       "    }\n",
       "\n",
       "    .dataframe tbody tr th {\n",
       "        vertical-align: top;\n",
       "    }\n",
       "\n",
       "    .dataframe thead th {\n",
       "        text-align: right;\n",
       "    }\n",
       "</style>\n",
       "<table border=\"1\" class=\"dataframe\">\n",
       "  <thead>\n",
       "    <tr style=\"text-align: right;\">\n",
       "      <th></th>\n",
       "      <th>sentence</th>\n",
       "      <th>label</th>\n",
       "    </tr>\n",
       "  </thead>\n",
       "  <tbody>\n",
       "    <tr>\n",
       "      <th>995</th>\n",
       "      <td>The screen does get smudged easily because it ...</td>\n",
       "      <td>0</td>\n",
       "    </tr>\n",
       "    <tr>\n",
       "      <th>996</th>\n",
       "      <td>What a piece of junk.. I lose more calls on th...</td>\n",
       "      <td>0</td>\n",
       "    </tr>\n",
       "    <tr>\n",
       "      <th>997</th>\n",
       "      <td>Item Does Not Match Picture.</td>\n",
       "      <td>0</td>\n",
       "    </tr>\n",
       "    <tr>\n",
       "      <th>998</th>\n",
       "      <td>The only thing that disappoint me is the infra...</td>\n",
       "      <td>0</td>\n",
       "    </tr>\n",
       "    <tr>\n",
       "      <th>999</th>\n",
       "      <td>You can not answer calls with the unit, never ...</td>\n",
       "      <td>0</td>\n",
       "    </tr>\n",
       "  </tbody>\n",
       "</table>\n",
       "</div>"
      ],
      "text/plain": [
       "                                              sentence  label\n",
       "995  The screen does get smudged easily because it ...      0\n",
       "996  What a piece of junk.. I lose more calls on th...      0\n",
       "997                       Item Does Not Match Picture.      0\n",
       "998  The only thing that disappoint me is the infra...      0\n",
       "999  You can not answer calls with the unit, never ...      0"
      ]
     },
     "execution_count": 4,
     "metadata": {},
     "output_type": "execute_result"
    }
   ],
   "source": [
    "df.tail()"
   ]
  },
  {
   "cell_type": "code",
   "execution_count": 5,
   "id": "f1dd4b54",
   "metadata": {},
   "outputs": [
    {
     "data": {
      "text/plain": [
       "{'Rashmi': 0, 'likes': 5, 'ice': 4, 'cream': 2, 'hates': 3, 'chocolate': 1}"
      ]
     },
     "execution_count": 5,
     "metadata": {},
     "output_type": "execute_result"
    }
   ],
   "source": [
    "sentences = ['Rashmi likes ice cream', 'Rashmi hates chocolate.']\n",
    "\n",
    "vectorizer = CountVectorizer(min_df=0, lowercase=False)\n",
    "vectorizer.fit(sentences)\n",
    "vectorizer.vocabulary_"
   ]
  },
  {
   "cell_type": "code",
   "execution_count": 6,
   "id": "41e7ce77",
   "metadata": {},
   "outputs": [
    {
     "data": {
      "text/plain": [
       "array([[1, 0, 1, 0, 1, 1],\n",
       "       [1, 1, 0, 1, 0, 0]], dtype=int64)"
      ]
     },
     "execution_count": 6,
     "metadata": {},
     "output_type": "execute_result"
    }
   ],
   "source": [
    "vectorizer.transform(sentences).toarray()"
   ]
  },
  {
   "cell_type": "code",
   "execution_count": 9,
   "id": "935ae5db",
   "metadata": {},
   "outputs": [],
   "source": [
    "sentences = df['sentence'].values\n",
    "y = df['label'].values\n",
    "\n",
    "sentences_train, sentences_test, y_train, y_test = train_test_split(sentences, y, test_size=0.25, random_state=1000)"
   ]
  },
  {
   "cell_type": "code",
   "execution_count": 10,
   "id": "0789af3a",
   "metadata": {},
   "outputs": [],
   "source": [
    "vectorizer = CountVectorizer()\n",
    "vectorizer.fit(sentences_train)\n",
    "\n",
    "X_train = vectorizer.transform(sentences_train)\n",
    "X_test  = vectorizer.transform(sentences_test)"
   ]
  },
  {
   "cell_type": "code",
   "execution_count": 11,
   "id": "f23cf77d",
   "metadata": {},
   "outputs": [
    {
     "data": {
      "text/plain": [
       "<750x1546 sparse matrix of type '<class 'numpy.int64'>'\n",
       "\twith 6817 stored elements in Compressed Sparse Row format>"
      ]
     },
     "execution_count": 11,
     "metadata": {},
     "output_type": "execute_result"
    }
   ],
   "source": [
    "X_train"
   ]
  },
  {
   "cell_type": "code",
   "execution_count": 12,
   "id": "bb6f8486",
   "metadata": {},
   "outputs": [
    {
     "name": "stdout",
     "output_type": "stream",
     "text": [
      "Accuracy: 0.796\n"
     ]
    }
   ],
   "source": [
    "classifier = LogisticRegression()\n",
    "classifier.fit(X_train, y_train)\n",
    "score = classifier.score(X_test, y_test)\n",
    "\n",
    "print(\"Accuracy:\", score)"
   ]
  },
  {
   "cell_type": "code",
   "execution_count": 14,
   "id": "a9164b0c",
   "metadata": {},
   "outputs": [],
   "source": [
    "input_dim = X_train.shape[1]  \n",
    "\n",
    "model = Sequential()\n",
    "model.add(layers.Dense(10, input_dim=input_dim, activation='relu'))\n",
    "model.add(layers.Dense(1, activation='sigmoid'))"
   ]
  },
  {
   "cell_type": "code",
   "execution_count": 15,
   "id": "8769d0b8",
   "metadata": {},
   "outputs": [
    {
     "name": "stdout",
     "output_type": "stream",
     "text": [
      "Model: \"sequential\"\n",
      "_________________________________________________________________\n",
      " Layer (type)                Output Shape              Param #   \n",
      "=================================================================\n",
      " dense (Dense)               (None, 10)                15470     \n",
      "                                                                 \n",
      " dense_1 (Dense)             (None, 1)                 11        \n",
      "                                                                 \n",
      "=================================================================\n",
      "Total params: 15,481\n",
      "Trainable params: 15,481\n",
      "Non-trainable params: 0\n",
      "_________________________________________________________________\n"
     ]
    }
   ],
   "source": [
    "model.compile(loss='binary_crossentropy', \n",
    "              optimizer='adam', \n",
    "              metrics=['accuracy'])\n",
    "model.summary()"
   ]
  },
  {
   "cell_type": "code",
   "execution_count": 16,
   "id": "9cdf2752",
   "metadata": {
    "scrolled": true
   },
   "outputs": [
    {
     "name": "stdout",
     "output_type": "stream",
     "text": [
      "Epoch 1/100\n"
     ]
    },
    {
     "name": "stderr",
     "output_type": "stream",
     "text": [
      "C:\\Users\\ASUS\\anaconda3\\lib\\site-packages\\tensorflow\\python\\framework\\indexed_slices.py:448: UserWarning: Converting sparse IndexedSlices(IndexedSlices(indices=Tensor(\"gradient_tape/sequential/dense/embedding_lookup_sparse/Reshape_1:0\", shape=(None,), dtype=int32), values=Tensor(\"gradient_tape/sequential/dense/embedding_lookup_sparse/Reshape:0\", shape=(None, 10), dtype=float32), dense_shape=Tensor(\"gradient_tape/sequential/dense/embedding_lookup_sparse/Cast:0\", shape=(2,), dtype=int32))) to a dense Tensor of unknown shape. This may consume a large amount of memory.\n",
      "  warnings.warn(\n"
     ]
    },
    {
     "name": "stdout",
     "output_type": "stream",
     "text": [
      "75/75 [==============================] - 1s 2ms/step - loss: 0.6796 - accuracy: 0.6320 - val_loss: 0.6610 - val_accuracy: 0.7000\n",
      "Epoch 2/100\n",
      "75/75 [==============================] - 0s 1ms/step - loss: 0.6054 - accuracy: 0.8480 - val_loss: 0.6063 - val_accuracy: 0.7640\n",
      "Epoch 3/100\n",
      "75/75 [==============================] - 0s 3ms/step - loss: 0.5019 - accuracy: 0.9227 - val_loss: 0.5501 - val_accuracy: 0.7800\n",
      "Epoch 4/100\n",
      "75/75 [==============================] - 0s 1ms/step - loss: 0.3965 - accuracy: 0.9493 - val_loss: 0.5030 - val_accuracy: 0.7760\n",
      "Epoch 5/100\n",
      "75/75 [==============================] - 0s 784us/step - loss: 0.3083 - accuracy: 0.9667 - val_loss: 0.4717 - val_accuracy: 0.7800\n",
      "Epoch 6/100\n",
      "75/75 [==============================] - 0s 726us/step - loss: 0.2411 - accuracy: 0.9787 - val_loss: 0.4526 - val_accuracy: 0.7840\n",
      "Epoch 7/100\n",
      "75/75 [==============================] - 0s 744us/step - loss: 0.1898 - accuracy: 0.9853 - val_loss: 0.4380 - val_accuracy: 0.7960\n",
      "Epoch 8/100\n",
      "75/75 [==============================] - 0s 702us/step - loss: 0.1519 - accuracy: 0.9907 - val_loss: 0.4286 - val_accuracy: 0.7960\n",
      "Epoch 9/100\n",
      "75/75 [==============================] - 0s 726us/step - loss: 0.1231 - accuracy: 0.9947 - val_loss: 0.4241 - val_accuracy: 0.7960\n",
      "Epoch 10/100\n",
      "75/75 [==============================] - 0s 3ms/step - loss: 0.1008 - accuracy: 0.9960 - val_loss: 0.4200 - val_accuracy: 0.7920\n",
      "Epoch 11/100\n",
      "75/75 [==============================] - 0s 1ms/step - loss: 0.0837 - accuracy: 0.9960 - val_loss: 0.4238 - val_accuracy: 0.7920\n",
      "Epoch 12/100\n",
      "75/75 [==============================] - 0s 794us/step - loss: 0.0702 - accuracy: 0.9987 - val_loss: 0.4256 - val_accuracy: 0.7800\n",
      "Epoch 13/100\n",
      "75/75 [==============================] - 0s 771us/step - loss: 0.0592 - accuracy: 0.9987 - val_loss: 0.4279 - val_accuracy: 0.7760\n",
      "Epoch 14/100\n",
      "75/75 [==============================] - 0s 4ms/step - loss: 0.0508 - accuracy: 1.0000 - val_loss: 0.4330 - val_accuracy: 0.7760\n",
      "Epoch 15/100\n",
      "75/75 [==============================] - 0s 849us/step - loss: 0.0439 - accuracy: 0.9987 - val_loss: 0.4389 - val_accuracy: 0.7760\n",
      "Epoch 16/100\n",
      "75/75 [==============================] - 0s 977us/step - loss: 0.0380 - accuracy: 1.0000 - val_loss: 0.4414 - val_accuracy: 0.7720\n",
      "Epoch 17/100\n",
      "75/75 [==============================] - 0s 3ms/step - loss: 0.0332 - accuracy: 1.0000 - val_loss: 0.4456 - val_accuracy: 0.7760\n",
      "Epoch 18/100\n",
      "75/75 [==============================] - 0s 1ms/step - loss: 0.0293 - accuracy: 1.0000 - val_loss: 0.4523 - val_accuracy: 0.7680\n",
      "Epoch 19/100\n",
      "75/75 [==============================] - 0s 1ms/step - loss: 0.0259 - accuracy: 1.0000 - val_loss: 0.4587 - val_accuracy: 0.7720\n",
      "Epoch 20/100\n",
      "75/75 [==============================] - 0s 813us/step - loss: 0.0231 - accuracy: 1.0000 - val_loss: 0.4648 - val_accuracy: 0.7760\n",
      "Epoch 21/100\n",
      "75/75 [==============================] - 0s 1ms/step - loss: 0.0207 - accuracy: 1.0000 - val_loss: 0.4715 - val_accuracy: 0.7720\n",
      "Epoch 22/100\n",
      "75/75 [==============================] - 0s 4ms/step - loss: 0.0186 - accuracy: 1.0000 - val_loss: 0.4769 - val_accuracy: 0.7760\n",
      "Epoch 23/100\n",
      "75/75 [==============================] - 0s 2ms/step - loss: 0.0167 - accuracy: 1.0000 - val_loss: 0.4839 - val_accuracy: 0.7720\n",
      "Epoch 24/100\n",
      "75/75 [==============================] - 0s 1ms/step - loss: 0.0152 - accuracy: 1.0000 - val_loss: 0.4887 - val_accuracy: 0.7760\n",
      "Epoch 25/100\n",
      "75/75 [==============================] - 0s 1ms/step - loss: 0.0138 - accuracy: 1.0000 - val_loss: 0.4960 - val_accuracy: 0.7760\n",
      "Epoch 26/100\n",
      "75/75 [==============================] - 0s 996us/step - loss: 0.0126 - accuracy: 1.0000 - val_loss: 0.5017 - val_accuracy: 0.7800\n",
      "Epoch 27/100\n",
      "75/75 [==============================] - 0s 1ms/step - loss: 0.0115 - accuracy: 1.0000 - val_loss: 0.5072 - val_accuracy: 0.7760\n",
      "Epoch 28/100\n",
      "75/75 [==============================] - 0s 884us/step - loss: 0.0105 - accuracy: 1.0000 - val_loss: 0.5133 - val_accuracy: 0.7760\n",
      "Epoch 29/100\n",
      "75/75 [==============================] - 0s 868us/step - loss: 0.0097 - accuracy: 1.0000 - val_loss: 0.5188 - val_accuracy: 0.7760\n",
      "Epoch 30/100\n",
      "75/75 [==============================] - 0s 1ms/step - loss: 0.0090 - accuracy: 1.0000 - val_loss: 0.5243 - val_accuracy: 0.7800\n",
      "Epoch 31/100\n",
      "75/75 [==============================] - 0s 1ms/step - loss: 0.0083 - accuracy: 1.0000 - val_loss: 0.5287 - val_accuracy: 0.7840\n",
      "Epoch 32/100\n",
      "75/75 [==============================] - 0s 1ms/step - loss: 0.0078 - accuracy: 1.0000 - val_loss: 0.5361 - val_accuracy: 0.7840\n",
      "Epoch 33/100\n",
      "75/75 [==============================] - 0s 904us/step - loss: 0.0072 - accuracy: 1.0000 - val_loss: 0.5410 - val_accuracy: 0.7840\n",
      "Epoch 34/100\n",
      "75/75 [==============================] - 0s 1ms/step - loss: 0.0067 - accuracy: 1.0000 - val_loss: 0.5472 - val_accuracy: 0.7840\n",
      "Epoch 35/100\n",
      "75/75 [==============================] - 0s 873us/step - loss: 0.0063 - accuracy: 1.0000 - val_loss: 0.5527 - val_accuracy: 0.7840\n",
      "Epoch 36/100\n",
      "75/75 [==============================] - 0s 870us/step - loss: 0.0059 - accuracy: 1.0000 - val_loss: 0.5582 - val_accuracy: 0.7840\n",
      "Epoch 37/100\n",
      "75/75 [==============================] - 0s 1ms/step - loss: 0.0055 - accuracy: 1.0000 - val_loss: 0.5632 - val_accuracy: 0.7840\n",
      "Epoch 38/100\n",
      "75/75 [==============================] - 0s 1ms/step - loss: 0.0052 - accuracy: 1.0000 - val_loss: 0.5686 - val_accuracy: 0.7840\n",
      "Epoch 39/100\n",
      "75/75 [==============================] - 0s 1ms/step - loss: 0.0049 - accuracy: 1.0000 - val_loss: 0.5739 - val_accuracy: 0.7840\n",
      "Epoch 40/100\n",
      "75/75 [==============================] - 0s 1ms/step - loss: 0.0046 - accuracy: 1.0000 - val_loss: 0.5793 - val_accuracy: 0.7840\n",
      "Epoch 41/100\n",
      "75/75 [==============================] - 0s 2ms/step - loss: 0.0043 - accuracy: 1.0000 - val_loss: 0.5838 - val_accuracy: 0.7840\n",
      "Epoch 42/100\n",
      "75/75 [==============================] - 0s 1ms/step - loss: 0.0041 - accuracy: 1.0000 - val_loss: 0.5885 - val_accuracy: 0.7840\n",
      "Epoch 43/100\n",
      "75/75 [==============================] - 0s 2ms/step - loss: 0.0039 - accuracy: 1.0000 - val_loss: 0.5940 - val_accuracy: 0.7840\n",
      "Epoch 44/100\n",
      "75/75 [==============================] - 0s 2ms/step - loss: 0.0037 - accuracy: 1.0000 - val_loss: 0.5995 - val_accuracy: 0.7840\n",
      "Epoch 45/100\n",
      "75/75 [==============================] - 0s 2ms/step - loss: 0.0035 - accuracy: 1.0000 - val_loss: 0.6043 - val_accuracy: 0.7840\n",
      "Epoch 46/100\n",
      "75/75 [==============================] - 0s 1ms/step - loss: 0.0033 - accuracy: 1.0000 - val_loss: 0.6090 - val_accuracy: 0.7840\n",
      "Epoch 47/100\n",
      "75/75 [==============================] - 0s 2ms/step - loss: 0.0032 - accuracy: 1.0000 - val_loss: 0.6140 - val_accuracy: 0.7840\n",
      "Epoch 48/100\n",
      "75/75 [==============================] - 0s 1ms/step - loss: 0.0030 - accuracy: 1.0000 - val_loss: 0.6192 - val_accuracy: 0.7840\n",
      "Epoch 49/100\n",
      "75/75 [==============================] - 0s 1ms/step - loss: 0.0029 - accuracy: 1.0000 - val_loss: 0.6233 - val_accuracy: 0.7840\n",
      "Epoch 50/100\n",
      "75/75 [==============================] - 0s 1ms/step - loss: 0.0028 - accuracy: 1.0000 - val_loss: 0.6293 - val_accuracy: 0.7840\n",
      "Epoch 51/100\n",
      "75/75 [==============================] - 0s 1ms/step - loss: 0.0026 - accuracy: 1.0000 - val_loss: 0.6330 - val_accuracy: 0.7840\n",
      "Epoch 52/100\n",
      "75/75 [==============================] - 0s 901us/step - loss: 0.0025 - accuracy: 1.0000 - val_loss: 0.6384 - val_accuracy: 0.7840\n",
      "Epoch 53/100\n",
      "75/75 [==============================] - 0s 1ms/step - loss: 0.0024 - accuracy: 1.0000 - val_loss: 0.6426 - val_accuracy: 0.7840\n",
      "Epoch 54/100\n",
      "75/75 [==============================] - 0s 1ms/step - loss: 0.0023 - accuracy: 1.0000 - val_loss: 0.6467 - val_accuracy: 0.7840\n",
      "Epoch 55/100\n",
      "75/75 [==============================] - 0s 962us/step - loss: 0.0023 - accuracy: 1.0000 - val_loss: 0.6517 - val_accuracy: 0.7840\n",
      "Epoch 56/100\n",
      "75/75 [==============================] - 0s 1ms/step - loss: 0.0022 - accuracy: 1.0000 - val_loss: 0.6552 - val_accuracy: 0.7840\n",
      "Epoch 57/100\n",
      "75/75 [==============================] - 0s 984us/step - loss: 0.0021 - accuracy: 1.0000 - val_loss: 0.6597 - val_accuracy: 0.7840\n",
      "Epoch 58/100\n",
      "75/75 [==============================] - 0s 1ms/step - loss: 0.0020 - accuracy: 1.0000 - val_loss: 0.6639 - val_accuracy: 0.7840\n",
      "Epoch 59/100\n",
      "75/75 [==============================] - 0s 1ms/step - loss: 0.0020 - accuracy: 1.0000 - val_loss: 0.6679 - val_accuracy: 0.7840\n",
      "Epoch 60/100\n",
      "75/75 [==============================] - 0s 993us/step - loss: 0.0019 - accuracy: 1.0000 - val_loss: 0.6733 - val_accuracy: 0.7840\n",
      "Epoch 61/100\n",
      "75/75 [==============================] - 0s 1ms/step - loss: 0.0018 - accuracy: 1.0000 - val_loss: 0.6772 - val_accuracy: 0.7840\n",
      "Epoch 62/100\n",
      "75/75 [==============================] - 0s 3ms/step - loss: 0.0018 - accuracy: 1.0000 - val_loss: 0.6821 - val_accuracy: 0.7880\n",
      "Epoch 63/100\n",
      "75/75 [==============================] - 0s 1ms/step - loss: 0.0017 - accuracy: 1.0000 - val_loss: 0.6866 - val_accuracy: 0.7880\n",
      "Epoch 64/100\n",
      "75/75 [==============================] - 0s 768us/step - loss: 0.0017 - accuracy: 1.0000 - val_loss: 0.6911 - val_accuracy: 0.7880\n",
      "Epoch 65/100\n",
      "75/75 [==============================] - 0s 966us/step - loss: 0.0016 - accuracy: 1.0000 - val_loss: 0.6957 - val_accuracy: 0.7880\n",
      "Epoch 66/100\n",
      "75/75 [==============================] - 0s 1ms/step - loss: 0.0016 - accuracy: 1.0000 - val_loss: 0.7004 - val_accuracy: 0.7880\n",
      "Epoch 67/100\n",
      "75/75 [==============================] - 0s 2ms/step - loss: 0.0015 - accuracy: 1.0000 - val_loss: 0.7048 - val_accuracy: 0.7880\n",
      "Epoch 68/100\n",
      "75/75 [==============================] - 0s 3ms/step - loss: 0.0015 - accuracy: 1.0000 - val_loss: 0.7095 - val_accuracy: 0.7880\n",
      "Epoch 69/100\n",
      "75/75 [==============================] - 0s 2ms/step - loss: 0.0014 - accuracy: 1.0000 - val_loss: 0.7137 - val_accuracy: 0.7880\n",
      "Epoch 70/100\n",
      "75/75 [==============================] - 0s 1ms/step - loss: 0.0014 - accuracy: 1.0000 - val_loss: 0.7181 - val_accuracy: 0.7880\n",
      "Epoch 71/100\n",
      "75/75 [==============================] - 0s 2ms/step - loss: 0.0013 - accuracy: 1.0000 - val_loss: 0.7225 - val_accuracy: 0.7880\n",
      "Epoch 72/100\n",
      "75/75 [==============================] - 0s 701us/step - loss: 0.0013 - accuracy: 1.0000 - val_loss: 0.7269 - val_accuracy: 0.7880\n",
      "Epoch 73/100\n",
      "75/75 [==============================] - 0s 2ms/step - loss: 0.0013 - accuracy: 1.0000 - val_loss: 0.7310 - val_accuracy: 0.7880\n",
      "Epoch 74/100\n",
      "75/75 [==============================] - 0s 667us/step - loss: 0.0013 - accuracy: 1.0000 - val_loss: 0.7335 - val_accuracy: 0.7920\n",
      "Epoch 75/100\n",
      "75/75 [==============================] - 0s 695us/step - loss: 0.0012 - accuracy: 1.0000 - val_loss: 0.7377 - val_accuracy: 0.7880\n",
      "Epoch 76/100\n",
      "75/75 [==============================] - ETA: 0s - loss: 5.0836e-04 - accuracy: 1.0000 ETA: 0s - loss: 4.5217e-04 - accuracy: 1. - 0s 2ms/step - loss: 0.0012 - accuracy: 1.0000 - val_loss: 0.7423 - val_accuracy: 0.7880\n",
      "Epoch 77/100\n",
      "75/75 [==============================] - 0s 723us/step - loss: 0.0012 - accuracy: 1.0000 - val_loss: 0.7465 - val_accuracy: 0.7880\n",
      "Epoch 78/100\n",
      "75/75 [==============================] - 0s 1ms/step - loss: 0.0011 - accuracy: 1.0000 - val_loss: 0.7514 - val_accuracy: 0.7920\n",
      "Epoch 79/100\n",
      "75/75 [==============================] - 0s 2ms/step - loss: 0.0011 - accuracy: 1.0000 - val_loss: 0.7556 - val_accuracy: 0.7920\n",
      "Epoch 80/100\n",
      "75/75 [==============================] - 0s 1ms/step - loss: 0.0011 - accuracy: 1.0000 - val_loss: 0.7601 - val_accuracy: 0.7920\n",
      "Epoch 81/100\n",
      "75/75 [==============================] - 0s 850us/step - loss: 0.0011 - accuracy: 1.0000 - val_loss: 0.7643 - val_accuracy: 0.7960\n",
      "Epoch 82/100\n",
      "75/75 [==============================] - 0s 690us/step - loss: 0.0010 - accuracy: 1.0000 - val_loss: 0.7681 - val_accuracy: 0.7960\n",
      "Epoch 83/100\n",
      "75/75 [==============================] - 0s 2ms/step - loss: 0.0010 - accuracy: 1.0000 - val_loss: 0.7726 - val_accuracy: 0.7960\n",
      "Epoch 84/100\n",
      "75/75 [==============================] - 0s 696us/step - loss: 0.0010 - accuracy: 1.0000 - val_loss: 0.7770 - val_accuracy: 0.7960\n",
      "Epoch 85/100\n",
      "75/75 [==============================] - 0s 2ms/step - loss: 9.8269e-04 - accuracy: 1.0000 - val_loss: 0.7813 - val_accuracy: 0.7960\n",
      "Epoch 86/100\n",
      "75/75 [==============================] - 0s 744us/step - loss: 9.6373e-04 - accuracy: 1.0000 - val_loss: 0.7854 - val_accuracy: 0.7960\n",
      "Epoch 87/100\n",
      "75/75 [==============================] - 0s 933us/step - loss: 9.4585e-04 - accuracy: 1.0000 - val_loss: 0.7891 - val_accuracy: 0.7960\n",
      "Epoch 88/100\n",
      "75/75 [==============================] - 0s 1ms/step - loss: 9.2881e-04 - accuracy: 1.0000 - val_loss: 0.7938 - val_accuracy: 0.7960\n",
      "Epoch 89/100\n",
      "75/75 [==============================] - 0s 1ms/step - loss: 9.1235e-04 - accuracy: 1.0000 - val_loss: 0.7981 - val_accuracy: 0.7960\n",
      "Epoch 90/100\n",
      "75/75 [==============================] - 0s 750us/step - loss: 8.9601e-04 - accuracy: 1.0000 - val_loss: 0.8021 - val_accuracy: 0.7960\n",
      "Epoch 91/100\n",
      "75/75 [==============================] - 0s 996us/step - loss: 8.8080e-04 - accuracy: 1.0000 - val_loss: 0.8059 - val_accuracy: 0.7960\n",
      "Epoch 92/100\n",
      "75/75 [==============================] - 0s 697us/step - loss: 8.6633e-04 - accuracy: 1.0000 - val_loss: 0.8106 - val_accuracy: 0.7960\n",
      "Epoch 93/100\n",
      "75/75 [==============================] - 0s 1ms/step - loss: 8.5178e-04 - accuracy: 1.0000 - val_loss: 0.8146 - val_accuracy: 0.7960\n",
      "Epoch 94/100\n",
      "75/75 [==============================] - 0s 813us/step - loss: 8.3808e-04 - accuracy: 1.0000 - val_loss: 0.8188 - val_accuracy: 0.7960\n",
      "Epoch 95/100\n",
      "75/75 [==============================] - 0s 878us/step - loss: 8.2451e-04 - accuracy: 1.0000 - val_loss: 0.8227 - val_accuracy: 0.7960\n",
      "Epoch 96/100\n",
      "75/75 [==============================] - 0s 1ms/step - loss: 8.1286e-04 - accuracy: 1.0000 - val_loss: 0.8256 - val_accuracy: 0.7920\n",
      "Epoch 97/100\n",
      "75/75 [==============================] - 0s 1ms/step - loss: 8.0246e-04 - accuracy: 1.0000 - val_loss: 0.8295 - val_accuracy: 0.7960\n",
      "Epoch 98/100\n",
      "75/75 [==============================] - 0s 702us/step - loss: 7.9011e-04 - accuracy: 1.0000 - val_loss: 0.8341 - val_accuracy: 0.7960\n",
      "Epoch 99/100\n",
      "75/75 [==============================] - 0s 750us/step - loss: 7.7810e-04 - accuracy: 1.0000 - val_loss: 0.8377 - val_accuracy: 0.7960\n",
      "Epoch 100/100\n",
      "75/75 [==============================] - 0s 908us/step - loss: 7.6664e-04 - accuracy: 1.0000 - val_loss: 0.8421 - val_accuracy: 0.7960\n"
     ]
    }
   ],
   "source": [
    "history = model.fit(X_train, y_train,\n",
    "                    epochs=100,\n",
    "                    verbose=True,\n",
    "                    validation_data=(X_test, y_test),\n",
    "                    batch_size=10)"
   ]
  },
  {
   "cell_type": "code",
   "execution_count": 17,
   "id": "4f8bf2d2",
   "metadata": {},
   "outputs": [
    {
     "name": "stdout",
     "output_type": "stream",
     "text": [
      "Training Accuracy: 1.0000\n",
      "Testing Accuracy:  0.7960\n"
     ]
    }
   ],
   "source": [
    "loss, accuracy = model.evaluate(X_train, y_train, verbose=False)\n",
    "print(\"Training Accuracy: {:.4f}\".format(accuracy))\n",
    "loss, accuracy = model.evaluate(X_test, y_test, verbose=False)\n",
    "print(\"Testing Accuracy:  {:.4f}\".format(accuracy))"
   ]
  },
  {
   "cell_type": "code",
   "execution_count": 19,
   "id": "d1e7bbe1",
   "metadata": {},
   "outputs": [
    {
     "data": {
      "image/png": "[encoded data removed]",
      "text/plain": [
       "<Figure size 864x360 with 2 Axes>"
      ]
     },
     "metadata": {},
     "output_type": "display_data"
    }
   ],
   "source": [
    "def plot_history(history):\n",
    "    acc = history.history['accuracy']\n",
    "    val_acc = history.history['val_accuracy']\n",
    "    loss = history.history['loss']\n",
    "    val_loss = history.history['val_loss']\n",
    "    x = range(1, len(acc) + 1)\n",
    "\n",
    "    plt.figure(figsize=(12, 5))\n",
    "    plt.subplot(1, 2, 1)\n",
    "    plt.plot(x, acc, 'b', label='Training acc')\n",
    "    plt.plot(x, val_acc, 'r', label='Validation acc')\n",
    "    plt.title('Training and validation accuracy')\n",
    "    plt.legend()\n",
    "    plt.subplot(1, 2, 2)\n",
    "    plt.plot(x, loss, 'b', label='Training loss')\n",
    "    plt.plot(x, val_loss, 'r', label='Validation loss')\n",
    "    plt.title('Training and validation loss')\n",
    "    plt.legend()\n",
    "    \n",
    "plot_history(history)"
   ]
  }
 ],
 "metadata": {
  "kernelspec": {
   "display_name": "Python 3",
   "language": "python",
   "name": "python3"
  },
  "language_info": {
   "codemirror_mode": {
    "name": "ipython",
    "version": 3
   },
   "file_extension": ".py",
   "mimetype": "text/x-python",
   "name": "python",
   "nbconvert_exporter": "python",
   "pygments_lexer": "ipython3",
   "version": "3.8.8"
  }
 },
 "nbformat": 4,
 "nbformat_minor": 5
}
