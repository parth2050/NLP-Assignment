{
 "cells": [
  {
   "cell_type": "markdown",
   "id": "1d268a78",
   "metadata": {},
   "source": [
    "## Implentation of Text Clustering using K-mean algorithm"
   ]
  },
  {
   "cell_type": "code",
   "execution_count": 2,
   "id": "059e3759",
   "metadata": {},
   "outputs": [
    {
     "name": "stdout",
     "output_type": "stream",
     "text": [
      "\n",
      "Cluster 0: nlp ml field researching based statistical learning drastically aspect technological\n",
      "Cluster 1: language stands processing natural nlp humans helps tasks communicate scales[0]\n",
      "[1]\n"
     ]
    }
   ],
   "source": [
    "from sklearn.feature_extraction.text import TfidfVectorizer\n",
    "from sklearn.cluster import KMeans\n",
    "\n",
    "documents = [\"NLP is researching field\",\n",
    "             \"NLP and ML changed the technological aspect drastically \",\n",
    "             \"NLP stands for Natural Language Processing\",\n",
    "             \"NLP oncerned with giving computers the ability to understand text and spoken words in much the same way human beings can.\",\n",
    "             \"NLP helps computers communicate with humans in their own language and scales other language-related tasks. \",\n",
    "             \"NLP and ML are both based on statistical learning\",\n",
    "             \"Knowledge of Math is fundamental in these type of fields\"]\n",
    " \n",
    "vectorizer = TfidfVectorizer(stop_words = 'english')\n",
    "data = vectorizer.fit_transform(documents)\n",
    " \n",
    "true_k = 2\n",
    "clustering_model = KMeans(n_clusters = true_k, init = 'k-means++', max_iter = 300, n_init = 10)\n",
    "clustering_model.fit(data)\n",
    "\n",
    "sorted_centroids = clustering_model.cluster_centers_.argsort()[:, ::-1]\n",
    "terms = vectorizer.get_feature_names()\n",
    "\n",
    "for i in range(true_k):\n",
    "        print(\"\\nCluster %d:\" % i, end='')\n",
    "        for ind in sorted_centroids[i, :10]:\n",
    "            print(' %s' % terms[ind], end='')\n",
    "\n",
    "new_doc = [\"ML is changing\"]\n",
    "Y = vectorizer.transform(new_doc)\n",
    "prediction = clustering_model.predict(Y)\n",
    "print(prediction)\n",
    "\n",
    "new_doc = [\"NLP gives own language\"]\n",
    "Y = vectorizer.transform(new_doc)\n",
    "prediction = clustering_model.predict(Y)\n",
    "print(prediction)"
   ]
  }
 ],
 "metadata": {
  "kernelspec": {
   "display_name": "Python 3",
   "language": "python",
   "name": "python3"
  },
  "language_info": {
   "codemirror_mode": {
    "name": "ipython",
    "version": 3
   },
   "file_extension": ".py",
   "mimetype": "text/x-python",
   "name": "python",
   "nbconvert_exporter": "python",
   "pygments_lexer": "ipython3",
   "version": "3.8.8"
  }
 },
 "nbformat": 4,
 "nbformat_minor": 5
}
